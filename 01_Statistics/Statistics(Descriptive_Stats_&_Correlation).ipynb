{
  "cells": [
    {
      "cell_type": "markdown",
      "metadata": {
        "id": "view-in-github",
        "colab_type": "text"
      },
      "source": [
        "<a href=\"https://colab.research.google.com/github/1cero1/Statistics/blob/main/Statistics(Descriptive_Stats_%26_Correlation).ipynb\" target=\"_parent\"><img src=\"https://colab.research.google.com/assets/colab-badge.svg\" alt=\"Open In Colab\"/></a>"
      ]
    },
    {
      "cell_type": "markdown",
      "metadata": {
        "id": "qJmCP5JrU2UD"
      },
      "source": [
        "Import Libraries"
      ]
    },
    {
      "cell_type": "code",
      "execution_count": null,
      "metadata": {
        "id": "X7SE9OnEU5fC"
      },
      "outputs": [],
      "source": [
        "import numpy as np\n",
        "import matplotlib.pyplot as plt\n",
        "import seaborn as sns\n",
        "from scipy import stats"
      ]
    },
    {
      "cell_type": "markdown",
      "metadata": {
        "id": "auNJO43P7iwm"
      },
      "source": [
        "#**Descriptive Statistics**"
      ]
    },
    {
      "cell_type": "markdown",
      "metadata": {
        "id": "SyyW1vIPJuhD"
      },
      "source": [
        "[Seaborn Datasets](https://github.com/mwaskom/seaborn-data)"
      ]
    },
    {
      "cell_type": "markdown",
      "metadata": {
        "id": "Rr8yE5rdKnVN"
      },
      "source": [
        "[Titanic dataset](https://www.kaggle.com/brendan45774/test-file)"
      ]
    },
    {
      "cell_type": "code",
      "execution_count": null,
      "metadata": {
        "id": "rqEAhR057q1P"
      },
      "outputs": [],
      "source": [
        "# Load Titanic Dataset\n"
      ]
    },
    {
      "cell_type": "code",
      "execution_count": null,
      "metadata": {
        "id": "8KSMu_e_t4d1"
      },
      "outputs": [],
      "source": [
        "df = sns.load_dataset(\"titanic\")"
      ]
    },
    {
      "cell_type": "code",
      "execution_count": null,
      "metadata": {
        "colab": {
          "base_uri": "https://localhost:8080/",
          "height": 206
        },
        "id": "q1-Hm12at4d2",
        "outputId": "738ea87d-9d27-4435-c655-4d28b1555bdf"
      },
      "outputs": [
        {
          "output_type": "execute_result",
          "data": {
            "text/html": [
              "\n",
              "  <div id=\"df-4cb7e84a-0ead-46f0-9f68-44c3a7f402b1\">\n",
              "    <div class=\"colab-df-container\">\n",
              "      <div>\n",
              "<style scoped>\n",
              "    .dataframe tbody tr th:only-of-type {\n",
              "        vertical-align: middle;\n",
              "    }\n",
              "\n",
              "    .dataframe tbody tr th {\n",
              "        vertical-align: top;\n",
              "    }\n",
              "\n",
              "    .dataframe thead th {\n",
              "        text-align: right;\n",
              "    }\n",
              "</style>\n",
              "<table border=\"1\" class=\"dataframe\">\n",
              "  <thead>\n",
              "    <tr style=\"text-align: right;\">\n",
              "      <th></th>\n",
              "      <th>survived</th>\n",
              "      <th>pclass</th>\n",
              "      <th>sex</th>\n",
              "      <th>age</th>\n",
              "      <th>sibsp</th>\n",
              "      <th>parch</th>\n",
              "      <th>fare</th>\n",
              "      <th>embarked</th>\n",
              "      <th>class</th>\n",
              "      <th>who</th>\n",
              "      <th>adult_male</th>\n",
              "      <th>deck</th>\n",
              "      <th>embark_town</th>\n",
              "      <th>alive</th>\n",
              "      <th>alone</th>\n",
              "    </tr>\n",
              "  </thead>\n",
              "  <tbody>\n",
              "    <tr>\n",
              "      <th>0</th>\n",
              "      <td>0</td>\n",
              "      <td>3</td>\n",
              "      <td>male</td>\n",
              "      <td>22.0</td>\n",
              "      <td>1</td>\n",
              "      <td>0</td>\n",
              "      <td>7.2500</td>\n",
              "      <td>S</td>\n",
              "      <td>Third</td>\n",
              "      <td>man</td>\n",
              "      <td>True</td>\n",
              "      <td>NaN</td>\n",
              "      <td>Southampton</td>\n",
              "      <td>no</td>\n",
              "      <td>False</td>\n",
              "    </tr>\n",
              "    <tr>\n",
              "      <th>1</th>\n",
              "      <td>1</td>\n",
              "      <td>1</td>\n",
              "      <td>female</td>\n",
              "      <td>38.0</td>\n",
              "      <td>1</td>\n",
              "      <td>0</td>\n",
              "      <td>71.2833</td>\n",
              "      <td>C</td>\n",
              "      <td>First</td>\n",
              "      <td>woman</td>\n",
              "      <td>False</td>\n",
              "      <td>C</td>\n",
              "      <td>Cherbourg</td>\n",
              "      <td>yes</td>\n",
              "      <td>False</td>\n",
              "    </tr>\n",
              "    <tr>\n",
              "      <th>2</th>\n",
              "      <td>1</td>\n",
              "      <td>3</td>\n",
              "      <td>female</td>\n",
              "      <td>26.0</td>\n",
              "      <td>0</td>\n",
              "      <td>0</td>\n",
              "      <td>7.9250</td>\n",
              "      <td>S</td>\n",
              "      <td>Third</td>\n",
              "      <td>woman</td>\n",
              "      <td>False</td>\n",
              "      <td>NaN</td>\n",
              "      <td>Southampton</td>\n",
              "      <td>yes</td>\n",
              "      <td>True</td>\n",
              "    </tr>\n",
              "    <tr>\n",
              "      <th>3</th>\n",
              "      <td>1</td>\n",
              "      <td>1</td>\n",
              "      <td>female</td>\n",
              "      <td>35.0</td>\n",
              "      <td>1</td>\n",
              "      <td>0</td>\n",
              "      <td>53.1000</td>\n",
              "      <td>S</td>\n",
              "      <td>First</td>\n",
              "      <td>woman</td>\n",
              "      <td>False</td>\n",
              "      <td>C</td>\n",
              "      <td>Southampton</td>\n",
              "      <td>yes</td>\n",
              "      <td>False</td>\n",
              "    </tr>\n",
              "    <tr>\n",
              "      <th>4</th>\n",
              "      <td>0</td>\n",
              "      <td>3</td>\n",
              "      <td>male</td>\n",
              "      <td>35.0</td>\n",
              "      <td>0</td>\n",
              "      <td>0</td>\n",
              "      <td>8.0500</td>\n",
              "      <td>S</td>\n",
              "      <td>Third</td>\n",
              "      <td>man</td>\n",
              "      <td>True</td>\n",
              "      <td>NaN</td>\n",
              "      <td>Southampton</td>\n",
              "      <td>no</td>\n",
              "      <td>True</td>\n",
              "    </tr>\n",
              "  </tbody>\n",
              "</table>\n",
              "</div>\n",
              "      <button class=\"colab-df-convert\" onclick=\"convertToInteractive('df-4cb7e84a-0ead-46f0-9f68-44c3a7f402b1')\"\n",
              "              title=\"Convert this dataframe to an interactive table.\"\n",
              "              style=\"display:none;\">\n",
              "        \n",
              "  <svg xmlns=\"http://www.w3.org/2000/svg\" height=\"24px\"viewBox=\"0 0 24 24\"\n",
              "       width=\"24px\">\n",
              "    <path d=\"M0 0h24v24H0V0z\" fill=\"none\"/>\n",
              "    <path d=\"M18.56 5.44l.94 2.06.94-2.06 2.06-.94-2.06-.94-.94-2.06-.94 2.06-2.06.94zm-11 1L8.5 8.5l.94-2.06 2.06-.94-2.06-.94L8.5 2.5l-.94 2.06-2.06.94zm10 10l.94 2.06.94-2.06 2.06-.94-2.06-.94-.94-2.06-.94 2.06-2.06.94z\"/><path d=\"M17.41 7.96l-1.37-1.37c-.4-.4-.92-.59-1.43-.59-.52 0-1.04.2-1.43.59L10.3 9.45l-7.72 7.72c-.78.78-.78 2.05 0 2.83L4 21.41c.39.39.9.59 1.41.59.51 0 1.02-.2 1.41-.59l7.78-7.78 2.81-2.81c.8-.78.8-2.07 0-2.86zM5.41 20L4 18.59l7.72-7.72 1.47 1.35L5.41 20z\"/>\n",
              "  </svg>\n",
              "      </button>\n",
              "      \n",
              "  <style>\n",
              "    .colab-df-container {\n",
              "      display:flex;\n",
              "      flex-wrap:wrap;\n",
              "      gap: 12px;\n",
              "    }\n",
              "\n",
              "    .colab-df-convert {\n",
              "      background-color: #E8F0FE;\n",
              "      border: none;\n",
              "      border-radius: 50%;\n",
              "      cursor: pointer;\n",
              "      display: none;\n",
              "      fill: #1967D2;\n",
              "      height: 32px;\n",
              "      padding: 0 0 0 0;\n",
              "      width: 32px;\n",
              "    }\n",
              "\n",
              "    .colab-df-convert:hover {\n",
              "      background-color: #E2EBFA;\n",
              "      box-shadow: 0px 1px 2px rgba(60, 64, 67, 0.3), 0px 1px 3px 1px rgba(60, 64, 67, 0.15);\n",
              "      fill: #174EA6;\n",
              "    }\n",
              "\n",
              "    [theme=dark] .colab-df-convert {\n",
              "      background-color: #3B4455;\n",
              "      fill: #D2E3FC;\n",
              "    }\n",
              "\n",
              "    [theme=dark] .colab-df-convert:hover {\n",
              "      background-color: #434B5C;\n",
              "      box-shadow: 0px 1px 3px 1px rgba(0, 0, 0, 0.15);\n",
              "      filter: drop-shadow(0px 1px 2px rgba(0, 0, 0, 0.3));\n",
              "      fill: #FFFFFF;\n",
              "    }\n",
              "  </style>\n",
              "\n",
              "      <script>\n",
              "        const buttonEl =\n",
              "          document.querySelector('#df-4cb7e84a-0ead-46f0-9f68-44c3a7f402b1 button.colab-df-convert');\n",
              "        buttonEl.style.display =\n",
              "          google.colab.kernel.accessAllowed ? 'block' : 'none';\n",
              "\n",
              "        async function convertToInteractive(key) {\n",
              "          const element = document.querySelector('#df-4cb7e84a-0ead-46f0-9f68-44c3a7f402b1');\n",
              "          const dataTable =\n",
              "            await google.colab.kernel.invokeFunction('convertToInteractive',\n",
              "                                                     [key], {});\n",
              "          if (!dataTable) return;\n",
              "\n",
              "          const docLinkHtml = 'Like what you see? Visit the ' +\n",
              "            '<a target=\"_blank\" href=https://colab.research.google.com/notebooks/data_table.ipynb>data table notebook</a>'\n",
              "            + ' to learn more about interactive tables.';\n",
              "          element.innerHTML = '';\n",
              "          dataTable['output_type'] = 'display_data';\n",
              "          await google.colab.output.renderOutput(dataTable, element);\n",
              "          const docLink = document.createElement('div');\n",
              "          docLink.innerHTML = docLinkHtml;\n",
              "          element.appendChild(docLink);\n",
              "        }\n",
              "      </script>\n",
              "    </div>\n",
              "  </div>\n",
              "  "
            ],
            "text/plain": [
              "   survived  pclass     sex   age  ...  deck  embark_town  alive  alone\n",
              "0         0       3    male  22.0  ...   NaN  Southampton     no  False\n",
              "1         1       1  female  38.0  ...     C    Cherbourg    yes  False\n",
              "2         1       3  female  26.0  ...   NaN  Southampton    yes   True\n",
              "3         1       1  female  35.0  ...     C  Southampton    yes  False\n",
              "4         0       3    male  35.0  ...   NaN  Southampton     no   True\n",
              "\n",
              "[5 rows x 15 columns]"
            ]
          },
          "metadata": {},
          "execution_count": 4
        }
      ],
      "source": [
        "df.head()"
      ]
    },
    {
      "cell_type": "code",
      "execution_count": null,
      "metadata": {
        "id": "PSoxQ7ZLt4d4"
      },
      "outputs": [],
      "source": [
        "# Discuss The Dataset"
      ]
    },
    {
      "cell_type": "code",
      "execution_count": null,
      "metadata": {
        "colab": {
          "base_uri": "https://localhost:8080/"
        },
        "id": "ZMJO6fsut4d6",
        "outputId": "358c9db9-efaa-4e9c-9ba9-9ecfa50951db"
      },
      "outputs": [
        {
          "output_type": "execute_result",
          "data": {
            "text/plain": [
              "pandas.core.series.Series"
            ]
          },
          "metadata": {},
          "execution_count": 5
        }
      ],
      "source": [
        "type(df[\"fare\"])"
      ]
    },
    {
      "cell_type": "code",
      "execution_count": null,
      "metadata": {
        "id": "KPMgUO_4t4d6"
      },
      "outputs": [],
      "source": [
        "fare = np.array(df[\"fare\"])"
      ]
    },
    {
      "cell_type": "code",
      "execution_count": null,
      "metadata": {
        "colab": {
          "base_uri": "https://localhost:8080/"
        },
        "id": "KBPOftiJt4d7",
        "outputId": "dc468044-ff93-480c-a1fd-e42fe3ca4d4b"
      },
      "outputs": [
        {
          "output_type": "execute_result",
          "data": {
            "text/plain": [
              "891"
            ]
          },
          "metadata": {},
          "execution_count": 7
        }
      ],
      "source": [
        "len(fare)"
      ]
    },
    {
      "cell_type": "code",
      "execution_count": null,
      "metadata": {
        "id": "Y6VSKIx4t4d7"
      },
      "outputs": [],
      "source": [
        "# Central Tendency Measures"
      ]
    },
    {
      "cell_type": "code",
      "execution_count": null,
      "metadata": {
        "colab": {
          "base_uri": "https://localhost:8080/"
        },
        "id": "Bp6cA9Ewt4d8",
        "outputId": "d94b5f31-8f27-49b0-95d9-8122212d2f15"
      },
      "outputs": [
        {
          "output_type": "execute_result",
          "data": {
            "text/plain": [
              "32.204207968574636"
            ]
          },
          "metadata": {},
          "execution_count": 8
        }
      ],
      "source": [
        "np.mean(fare)"
      ]
    },
    {
      "cell_type": "code",
      "execution_count": null,
      "metadata": {
        "colab": {
          "base_uri": "https://localhost:8080/"
        },
        "id": "SnOpKBaLt4d9",
        "outputId": "b459fdc3-63f6-4a49-b593-12347dc2ed1d"
      },
      "outputs": [
        {
          "output_type": "execute_result",
          "data": {
            "text/plain": [
              "14.4542"
            ]
          },
          "metadata": {},
          "execution_count": 9
        }
      ],
      "source": [
        "np.median(fare)"
      ]
    },
    {
      "cell_type": "code",
      "execution_count": null,
      "metadata": {
        "id": "O5nuZAZkt4d9"
      },
      "outputs": [],
      "source": [
        "# Visualize "
      ]
    },
    {
      "cell_type": "code",
      "execution_count": null,
      "metadata": {
        "colab": {
          "base_uri": "https://localhost:8080/",
          "height": 334
        },
        "id": "NSWg6NTnt4d-",
        "outputId": "95e3fe35-261d-4369-9a27-b01462a215f9"
      },
      "outputs": [
        {
          "output_type": "execute_result",
          "data": {
            "text/plain": [
              "(array([732., 106.,  31.,   2.,  11.,   6.,   0.,   0.,   0.,   3.]),\n",
              " array([  0.     ,  51.23292, 102.46584, 153.69876, 204.93168, 256.1646 ,\n",
              "        307.39752, 358.63044, 409.86336, 461.09628, 512.3292 ]),\n",
              " <a list of 10 Patch objects>)"
            ]
          },
          "metadata": {},
          "execution_count": 11
        },
        {
          "output_type": "display_data",
          "data": {
            "image/png": "[encoded data removed]",
            "text/plain": [
              "<Figure size 432x288 with 1 Axes>"
            ]
          },
          "metadata": {
            "needs_background": "light"
          }
        }
      ],
      "source": [
        "plt.hist(fare)"
      ]
    },
    {
      "cell_type": "code",
      "execution_count": null,
      "metadata": {
        "colab": {
          "base_uri": "https://localhost:8080/",
          "height": 265
        },
        "id": "EZNBck2Ft4d-",
        "outputId": "d3ed86ae-ea58-47eb-88d8-91ea7de6347d"
      },
      "outputs": [
        {
          "output_type": "display_data",
          "data": {
            "image/png": "[encoded data removed]",
            "text/plain": [
              "<Figure size 432x288 with 1 Axes>"
            ]
          },
          "metadata": {
            "needs_background": "light"
          }
        }
      ],
      "source": [
        "plt.boxplot(fare);"
      ]
    },
    {
      "cell_type": "code",
      "execution_count": null,
      "metadata": {
        "id": "vRPV9DHft4d-"
      },
      "outputs": [],
      "source": [
        "boolarr = fare < 100\n"
      ]
    },
    {
      "cell_type": "code",
      "execution_count": null,
      "metadata": {
        "id": "Ikp3nBcat4d-"
      },
      "outputs": [],
      "source": [
        "newfare = fare[boolarr]"
      ]
    },
    {
      "cell_type": "code",
      "execution_count": null,
      "metadata": {
        "colab": {
          "base_uri": "https://localhost:8080/",
          "height": 265
        },
        "id": "RaMZ8B4Kt4d_",
        "outputId": "ef14fe5a-5560-4541-c8e5-cea92a0f8c9a"
      },
      "outputs": [
        {
          "output_type": "display_data",
          "data": {
            "image/png": "[encoded data removed]",
            "text/plain": [
              "<Figure size 432x288 with 1 Axes>"
            ]
          },
          "metadata": {
            "needs_background": "light"
          }
        }
      ],
      "source": [
        "plt.boxplot(newfare);"
      ]
    },
    {
      "cell_type": "code",
      "execution_count": null,
      "metadata": {
        "colab": {
          "base_uri": "https://localhost:8080/",
          "height": 265
        },
        "id": "TBsBbjI3t4eA",
        "outputId": "6919e73e-c031-4f3d-edc1-a8167ca8ce11"
      },
      "outputs": [
        {
          "output_type": "display_data",
          "data": {
            "image/png": "[encoded data removed]",
            "text/plain": [
              "<Figure size 432x288 with 1 Axes>"
            ]
          },
          "metadata": {
            "needs_background": "light"
          }
        }
      ],
      "source": [
        "plt.hist(newfare);"
      ]
    },
    {
      "cell_type": "code",
      "execution_count": null,
      "metadata": {
        "colab": {
          "base_uri": "https://localhost:8080/"
        },
        "id": "83A_mfSvt4eA",
        "outputId": "9d0f0ca7-260d-4a34-b50e-069c0c5169ca"
      },
      "outputs": [
        {
          "output_type": "execute_result",
          "data": {
            "text/plain": [
              "1.6690093839471292"
            ]
          },
          "metadata": {},
          "execution_count": 20
        }
      ],
      "source": [
        "stats.skew(newfare)"
      ]
    },
    {
      "cell_type": "code",
      "execution_count": null,
      "metadata": {
        "id": "ieCGD53st4eA"
      },
      "outputs": [],
      "source": [
        "# Dispersion Measures"
      ]
    },
    {
      "cell_type": "code",
      "execution_count": null,
      "metadata": {
        "id": "BAIngymb_vr4",
        "colab": {
          "base_uri": "https://localhost:8080/",
          "height": 268
        },
        "outputId": "d97b9947-d8e3-442e-f006-105a95cd85a6"
      },
      "outputs": [
        {
          "output_type": "display_data",
          "data": {
            "image/png": "[encoded data removed]",
            "text/plain": [
              "<Figure size 432x288 with 1 Axes>"
            ]
          },
          "metadata": {
            "needs_background": "light"
          }
        }
      ],
      "source": [
        "sns.kdeplot(newfare);"
      ]
    },
    {
      "cell_type": "code",
      "execution_count": null,
      "metadata": {
        "colab": {
          "base_uri": "https://localhost:8080/"
        },
        "id": "sHHdiScEt4eB",
        "outputId": "6ba6b5c9-effe-4176-e45b-7aa15d6c7732"
      },
      "outputs": [
        {
          "output_type": "execute_result",
          "data": {
            "text/plain": [
              "433.2553602824674"
            ]
          },
          "metadata": {},
          "execution_count": 22
        }
      ],
      "source": [
        "np.var(newfare)"
      ]
    },
    {
      "cell_type": "code",
      "execution_count": null,
      "metadata": {
        "colab": {
          "base_uri": "https://localhost:8080/"
        },
        "id": "az7G9-ZRt4eB",
        "outputId": "f335c185-1fc9-4a0d-82d6-03f2c225ce81"
      },
      "outputs": [
        {
          "output_type": "execute_result",
          "data": {
            "text/plain": [
              "20.814787058302265"
            ]
          },
          "metadata": {},
          "execution_count": 23
        }
      ],
      "source": [
        "np.std(newfare)"
      ]
    },
    {
      "cell_type": "code",
      "execution_count": null,
      "metadata": {
        "colab": {
          "base_uri": "https://localhost:8080/"
        },
        "id": "cgc7djf8t4eB",
        "outputId": "19a3f674-c4e1-4b5f-a7e9-ad861c559086"
      },
      "outputs": [
        {
          "output_type": "execute_result",
          "data": {
            "text/plain": [
              "7.8958"
            ]
          },
          "metadata": {},
          "execution_count": 25
        }
      ],
      "source": [
        "q1 = np.percentile(newfare, 25)\n",
        "q1"
      ]
    },
    {
      "cell_type": "code",
      "execution_count": null,
      "metadata": {
        "colab": {
          "base_uri": "https://localhost:8080/"
        },
        "id": "-XTmtOItt4eC",
        "outputId": "01edd01f-d12c-4ef1-aa06-fda95b6556fe"
      },
      "outputs": [
        {
          "output_type": "execute_result",
          "data": {
            "text/plain": [
              "13.0"
            ]
          },
          "metadata": {},
          "execution_count": 26
        }
      ],
      "source": [
        "q2 = np.percentile(newfare, 50)\n",
        "q2"
      ]
    },
    {
      "cell_type": "code",
      "source": [
        "q3 = np.percentile(newfare, 75)\n",
        "q3\n",
        "              "
      ],
      "metadata": {
        "colab": {
          "base_uri": "https://localhost:8080/"
        },
        "id": "Qx6dtpSw55re",
        "outputId": "35498c7c-e93b-4114-cdf5-f45a50537f99"
      },
      "execution_count": null,
      "outputs": [
        {
          "output_type": "execute_result",
          "data": {
            "text/plain": [
              "27.7208"
            ]
          },
          "metadata": {},
          "execution_count": 27
        }
      ]
    },
    {
      "cell_type": "code",
      "source": [
        "iqr = q3 - q1\n",
        "iqr"
      ],
      "metadata": {
        "colab": {
          "base_uri": "https://localhost:8080/"
        },
        "id": "sXlW1Q1B55_h",
        "outputId": "b7801510-e947-4f88-def6-7058694bc883"
      },
      "execution_count": null,
      "outputs": [
        {
          "output_type": "execute_result",
          "data": {
            "text/plain": [
              "19.825"
            ]
          },
          "metadata": {},
          "execution_count": 28
        }
      ]
    },
    {
      "cell_type": "code",
      "source": [
        "stats.iqr(newfare)"
      ],
      "metadata": {
        "colab": {
          "base_uri": "https://localhost:8080/"
        },
        "id": "RFmKzulM56Uq",
        "outputId": "25b00920-29b2-4cee-aa03-627cef2b1bb2"
      },
      "execution_count": null,
      "outputs": [
        {
          "output_type": "execute_result",
          "data": {
            "text/plain": [
              "19.825"
            ]
          },
          "metadata": {},
          "execution_count": 29
        }
      ]
    },
    {
      "cell_type": "code",
      "execution_count": null,
      "metadata": {
        "id": "gAtk2ILot4eC"
      },
      "outputs": [],
      "source": [
        "# Scatter Plot"
      ]
    },
    {
      "cell_type": "code",
      "execution_count": null,
      "metadata": {
        "id": "t4J65TbOUthx"
      },
      "outputs": [],
      "source": [
        "#tv_hours vs GPA\n",
        "tv_hours = [3,5,2,0,5,3,1,4,3,4]\n",
        "GPA = [2.7,2.1,3.3,3.4,2.0,3.0,3.6,2.8,3.5,2.6]"
      ]
    },
    {
      "cell_type": "code",
      "execution_count": null,
      "metadata": {
        "id": "xVpEZyVPt4eD"
      },
      "outputs": [],
      "source": [
        "tv_hours = np.array(tv_hours)\n",
        "GPA = np.array(GPA)"
      ]
    },
    {
      "cell_type": "code",
      "execution_count": null,
      "metadata": {
        "colab": {
          "base_uri": "https://localhost:8080/",
          "height": 282
        },
        "id": "RQWgpY-ct4eD",
        "outputId": "1a326640-67bf-441b-f5fb-73abe8ec02ca"
      },
      "outputs": [
        {
          "output_type": "execute_result",
          "data": {
            "text/plain": [
              "<matplotlib.collections.PathCollection at 0x7f86060c54d0>"
            ]
          },
          "metadata": {},
          "execution_count": 33
        },
        {
          "output_type": "display_data",
          "data": {
            "image/png": "[encoded data removed]",
            "text/plain": [
              "<Figure size 432x288 with 1 Axes>"
            ]
          },
          "metadata": {
            "needs_background": "light"
          }
        }
      ],
      "source": [
        "plt.scatter(tv_hours, GPA)"
      ]
    },
    {
      "cell_type": "code",
      "execution_count": null,
      "metadata": {
        "colab": {
          "base_uri": "https://localhost:8080/",
          "height": 265
        },
        "id": "oAFbv8tlt4eD",
        "outputId": "4bb8f1f8-6ef7-4af6-953d-f2befb52bd2f"
      },
      "outputs": [
        {
          "output_type": "display_data",
          "data": {
            "image/png": "[encoded data removed]",
            "text/plain": [
              "<Figure size 432x288 with 1 Axes>"
            ]
          },
          "metadata": {
            "needs_background": "light"
          }
        }
      ],
      "source": [
        "m, b = np.polyfit(tv_hours, GPA, 1)\n",
        "plt.plot(tv_hours, GPA, \"o\")\n",
        "plt.plot(tv_hours, m*tv_hours + b);"
      ]
    },
    {
      "cell_type": "code",
      "execution_count": null,
      "metadata": {
        "id": "rLO4wNi0t4eE"
      },
      "outputs": [],
      "source": [
        "# Draw a fitting Line"
      ]
    },
    {
      "cell_type": "code",
      "execution_count": null,
      "metadata": {
        "id": "LN-WK72bAg4b"
      },
      "outputs": [],
      "source": [
        ""
      ]
    },
    {
      "cell_type": "code",
      "execution_count": null,
      "metadata": {
        "id": "F8W-PRODt4eE"
      },
      "outputs": [],
      "source": [
        ""
      ]
    },
    {
      "cell_type": "markdown",
      "metadata": {
        "id": "KodcSUBTIfxX"
      },
      "source": [
        "# **Correlation**"
      ]
    },
    {
      "cell_type": "markdown",
      "metadata": {
        "id": "Y4-Q2dRHcVt5"
      },
      "source": [
        "# Manuel (with Formula)"
      ]
    },
    {
      "cell_type": "code",
      "execution_count": null,
      "metadata": {
        "id": "y8bGH1cScVMC"
      },
      "outputs": [],
      "source": [
        "#tv_hours vs GPA\n",
        "tv_hours = [3,5,2,0,5,3,1,4,3,4]\n",
        "GPA = [2.7,2.1,3.3,3.4,2.0,3.0,3.6,2.8,3.5,2.6]"
      ]
    },
    {
      "cell_type": "markdown",
      "metadata": {
        "id": "mf4w5tRvqCRR"
      },
      "source": [
        "Convert the lists to Numpy arrays"
      ]
    },
    {
      "cell_type": "code",
      "execution_count": null,
      "metadata": {
        "id": "MeYAv1dIakU3"
      },
      "outputs": [],
      "source": [
        "x = np.array(tv_hours)\n",
        "y = np.array(GPA)"
      ]
    },
    {
      "cell_type": "markdown",
      "metadata": {
        "id": "AIQ2Zq2Nc6ME"
      },
      "source": [
        "![correlation1.PNG](data:image/png;base64,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)"
      ]
    },
    {
      "cell_type": "markdown",
      "metadata": {
        "id": "H5OgvK5MqHzc"
      },
      "source": [
        "Use Pearson Correlation Formula. First calculate the numerator, second calculate the denominator, then calculate r coeff."
      ]
    },
    {
      "cell_type": "code",
      "execution_count": null,
      "metadata": {
        "colab": {
          "base_uri": "https://localhost:8080/"
        },
        "id": "0aL4e2DZt4ec",
        "outputId": "71a41513-3e22-4f7d-9ebb-8f24ac3fb009"
      },
      "outputs": [
        {
          "output_type": "execute_result",
          "data": {
            "text/plain": [
              "-71.00000000000011"
            ]
          },
          "metadata": {},
          "execution_count": 38
        }
      ],
      "source": [
        "numer = len(x)*sum(x*y) - sum(x)*sum(y)\n",
        "numer"
      ]
    },
    {
      "cell_type": "code",
      "execution_count": null,
      "metadata": {
        "colab": {
          "base_uri": "https://localhost:8080/"
        },
        "id": "UeEQzAyRt4ed",
        "outputId": "e3dbd6d5-7518-4bb3-ee4d-6bbbb6625064"
      },
      "outputs": [
        {
          "output_type": "execute_result",
          "data": {
            "text/plain": [
              "82.84926070883178"
            ]
          },
          "metadata": {},
          "execution_count": 40
        }
      ],
      "source": [
        "denom = np.sqrt((len(x)*sum(x**2)-sum(x)**2)*(len(y)*sum(y**2)-sum(y)**2))\n",
        "denom"
      ]
    },
    {
      "cell_type": "code",
      "execution_count": null,
      "metadata": {
        "colab": {
          "base_uri": "https://localhost:8080/"
        },
        "id": "cRzIiRAGt4ed",
        "outputId": "94e5d0cd-ed99-46be-cd6b-948381cc6b06"
      },
      "outputs": [
        {
          "output_type": "execute_result",
          "data": {
            "text/plain": [
              "-0.8569780755138527"
            ]
          },
          "metadata": {},
          "execution_count": 41
        }
      ],
      "source": [
        "r = numer / denom\n",
        "r"
      ]
    },
    {
      "cell_type": "markdown",
      "metadata": {
        "id": "Kq8mxZiMHlvY"
      },
      "source": [
        "# Scipy"
      ]
    },
    {
      "cell_type": "code",
      "execution_count": null,
      "metadata": {
        "colab": {
          "base_uri": "https://localhost:8080/"
        },
        "id": "krS8y6E1t4ed",
        "outputId": "419173b8-5894-4224-a148-a280601e467e"
      },
      "outputs": [
        {
          "output_type": "execute_result",
          "data": {
            "text/plain": [
              "-0.8569780755138502"
            ]
          },
          "metadata": {},
          "execution_count": 42
        }
      ],
      "source": [
        "r, p = stats.pearsonr(tv_hours, GPA)\n",
        "r"
      ]
    },
    {
      "cell_type": "code",
      "execution_count": null,
      "metadata": {
        "id": "VooZaXObt4ee"
      },
      "outputs": [],
      "source": [
        ""
      ]
    },
    {
      "cell_type": "markdown",
      "metadata": {
        "id": "keDjE5ZzdhKI"
      },
      "source": [
        "The Spearman rank-order correlation coefficient is a nonparametric measure of the monotonicity of the relationship between two datasets. Unlike the Pearson correlation, the Spearman correlation does not assume that both datasets are normally distributed."
      ]
    },
    {
      "cell_type": "code",
      "execution_count": null,
      "metadata": {
        "colab": {
          "base_uri": "https://localhost:8080/"
        },
        "id": "vsGazLrgt4ee",
        "outputId": "8422ca79-a19a-4c12-b098-2d8f967d7b5e"
      },
      "outputs": [
        {
          "output_type": "execute_result",
          "data": {
            "text/plain": [
              "SpearmanrResult(correlation=-0.8643457510060754, pvalue=0.0012537299375704556)"
            ]
          },
          "metadata": {},
          "execution_count": 43
        }
      ],
      "source": [
        "stats.spearmanr(tv_hours, GPA)"
      ]
    },
    {
      "cell_type": "code",
      "execution_count": null,
      "metadata": {
        "id": "camCqdR4t4ee"
      },
      "outputs": [],
      "source": [
        ""
      ]
    },
    {
      "cell_type": "markdown",
      "metadata": {
        "id": "JO7l8-AXdvum"
      },
      "source": [
        "Calculate Kendall’s tau, a correlation measure for ordinal data.\n",
        "\n",
        "Kendall’s tau is a measure of the correspondence between two rankings."
      ]
    },
    {
      "cell_type": "code",
      "execution_count": null,
      "metadata": {
        "colab": {
          "base_uri": "https://localhost:8080/"
        },
        "id": "yFcfImixt4ef",
        "outputId": "95179c18-5717-4986-9e92-ae9d48f9f43f"
      },
      "outputs": [
        {
          "output_type": "execute_result",
          "data": {
            "text/plain": [
              "KendalltauResult(correlation=-0.7542472332656507, pvalue=0.0033968772424454747)"
            ]
          },
          "metadata": {},
          "execution_count": 44
        }
      ],
      "source": [
        "stats.kendalltau(tv_hours, GPA)"
      ]
    },
    {
      "cell_type": "markdown",
      "metadata": {
        "id": "yNIQDersJMMu"
      },
      "source": [
        "## Numpy"
      ]
    },
    {
      "cell_type": "markdown",
      "metadata": {
        "id": "YejLbO3eqQSt"
      },
      "source": [
        "Calculate covariance with Numpy"
      ]
    },
    {
      "cell_type": "code",
      "execution_count": null,
      "metadata": {
        "colab": {
          "base_uri": "https://localhost:8080/"
        },
        "id": "IUNloy6Ht4eg",
        "outputId": "baf80ecb-a3cc-4555-ce44-e00edfc6680a"
      },
      "outputs": [
        {
          "output_type": "execute_result",
          "data": {
            "text/plain": [
              "array([[ 2.66666667, -0.78888889],\n",
              "       [-0.78888889,  0.31777778]])"
            ]
          },
          "metadata": {},
          "execution_count": 45
        }
      ],
      "source": [
        "np.cov(tv_hours, GPA)"
      ]
    },
    {
      "cell_type": "code",
      "execution_count": null,
      "metadata": {
        "colab": {
          "base_uri": "https://localhost:8080/"
        },
        "id": "PzMD6xeIt4eg",
        "outputId": "265ee828-72e3-44f1-8c9a-16c34f5c2702"
      },
      "outputs": [
        {
          "output_type": "execute_result",
          "data": {
            "text/plain": [
              "2.6666666666666665"
            ]
          },
          "metadata": {},
          "execution_count": 46
        }
      ],
      "source": [
        "stats.tvar(tv_hours)"
      ]
    },
    {
      "cell_type": "code",
      "source": [
        "stats.tvar(GPA)"
      ],
      "metadata": {
        "colab": {
          "base_uri": "https://localhost:8080/"
        },
        "id": "zeuvTmTk_7ck",
        "outputId": "4a955502-6282-4a8c-b23a-df3f72d8eafc"
      },
      "execution_count": null,
      "outputs": [
        {
          "output_type": "execute_result",
          "data": {
            "text/plain": [
              "0.3177777777777777"
            ]
          },
          "metadata": {},
          "execution_count": 47
        }
      ]
    },
    {
      "cell_type": "markdown",
      "metadata": {
        "id": "bLGCdYZsqbIl"
      },
      "source": [
        "Calculate the correlation coefficients with Numpy"
      ]
    },
    {
      "cell_type": "code",
      "execution_count": null,
      "metadata": {
        "colab": {
          "base_uri": "https://localhost:8080/"
        },
        "id": "hcedOLA2t4eh",
        "outputId": "152a57ef-8d9b-462a-d3f8-b58ed70e7b37"
      },
      "outputs": [
        {
          "output_type": "execute_result",
          "data": {
            "text/plain": [
              "array([[ 1.        , -0.85697808],\n",
              "       [-0.85697808,  1.        ]])"
            ]
          },
          "metadata": {},
          "execution_count": 48
        }
      ],
      "source": [
        "np.corrcoef(tv_hours, GPA)"
      ]
    }
  ],
  "metadata": {
    "colab": {
      "collapsed_sections": [],
      "name": "Statistics(Descriptive_Stats_&_Correlation).ipynb",
      "provenance": [],
      "include_colab_link": true
    },
    "kernelspec": {
      "display_name": "Python 3",
      "language": "python",
      "name": "python3"
    },
    "language_info": {
      "codemirror_mode": {
        "name": "ipython",
        "version": 3
      },
      "file_extension": ".py",
      "mimetype": "text/x-python",
      "name": "python",
      "nbconvert_exporter": "python",
      "pygments_lexer": "ipython3",
      "version": "3.8.8"
    }
  },
  "nbformat": 4,
  "nbformat_minor": 0
}